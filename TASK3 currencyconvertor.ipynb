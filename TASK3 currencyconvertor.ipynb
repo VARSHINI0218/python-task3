{
 "cells": [
  {
   "cell_type": "code",
   "execution_count": 1,
   "id": "bd0f827e",
   "metadata": {},
   "outputs": [
    {
     "name": "stdout",
     "output_type": "stream",
     "text": [
      "1.2058\n"
     ]
    }
   ],
   "source": [
    "import requests\n",
    "from tkinter import *\n",
    "import tkinter as tk\n",
    "from tkinter import ttk\n",
    "\n",
    "class RealTimeCurrencyConverter():\n",
    "    def __init__(self,url):\n",
    "        self.data= requests.get(url).json()\n",
    "        self.currencies = self.data['rates']\n",
    "\n",
    "    def convert(self, from_currency, to_currency, amount): \n",
    "        initial_amount = amount \n",
    "        # first convert it into USD if it is not in USD.\n",
    "        # because our base currency is USD\n",
    "        if from_currency != 'USD' : \n",
    "            amount = amount / self.currencies[from_currency] \n",
    "\n",
    "        # limiting the precision to 4 decimal places \n",
    "        amount = round(amount * self.currencies[to_currency], 4) \n",
    "        return amount\n",
    "\n",
    "url = 'https://api.exchangerate-api.com/v4/latest/USD'\n",
    "converter = RealTimeCurrencyConverter(url)\n",
    "print(converter.convert('INR','USD',100))\n",
    "\n",
    "class CurrencyConverterApp(tk.Tk):\n",
    "    def __init__(self, converter):\n",
    "        tk.Tk.__init__(self)\n",
    "        self.title('Currency Converter')\n",
    "        self.currency_converter = converter\n",
    "        self.geometry(\"500x200\")\n",
    "\n",
    "        # Label\n",
    "        self.intro_label = Label(self, text='Welcome to Real Time Currency Converter', fg='blue', relief=tk.RAISED, borderwidth=3)\n",
    "        self.intro_label.config(font=('Courier', 15, 'bold'))\n",
    "\n",
    "        self.date_label = Label(self, text=f\"1 Indian Rupee equals = {self.currency_converter.convert('INR', 'USD', 1)} USD \\n Date : {self.currency_converter.data['date']}\", relief=tk.GROOVE, borderwidth=5)\n",
    "\n",
    "        self.intro_label.place(x=10, y=5)\n",
    "        self.date_label.place(x=170, y=50)\n",
    "\n",
    "app = CurrencyConverterApp(converter)\n",
    "app.mainloop()\n"
   ]
  },
  {
   "cell_type": "code",
   "execution_count": null,
   "id": "6aa0bffa",
   "metadata": {},
   "outputs": [],
   "source": []
  }
 ],
 "metadata": {
  "kernelspec": {
   "display_name": "Python 3 (ipykernel)",
   "language": "python",
   "name": "python3"
  },
  "language_info": {
   "codemirror_mode": {
    "name": "ipython",
    "version": 3
   },
   "file_extension": ".py",
   "mimetype": "text/x-python",
   "name": "python",
   "nbconvert_exporter": "python",
   "pygments_lexer": "ipython3",
   "version": "3.11.3"
  }
 },
 "nbformat": 4,
 "nbformat_minor": 5
}
